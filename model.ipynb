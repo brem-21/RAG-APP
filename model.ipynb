{
  "cells": [
    {
      "cell_type": "markdown",
      "metadata": {
        "colab_type": "text",
        "id": "view-in-github"
      },
      "source": [
        "<a href=\"https://colab.research.google.com/github/brem-21/RAG-APP/blob/main/model.ipynb\" target=\"_parent\"><img src=\"https://colab.research.google.com/assets/colab-badge.svg\" alt=\"Open In Colab\"/></a>"
      ]
    },
    {
      "cell_type": "code",
      "execution_count": 1,
      "metadata": {
        "id": "VdWKRqjBU7mk"
      },
      "outputs": [
        {
          "name": "stderr",
          "output_type": "stream",
          "text": [
            "/home/kali/GENAI/venv/lib/python3.12/site-packages/tqdm/auto.py:21: TqdmWarning: IProgress not found. Please update jupyter and ipywidgets. See https://ipywidgets.readthedocs.io/en/stable/user_install.html\n",
            "  from .autonotebook import tqdm as notebook_tqdm\n"
          ]
        }
      ],
      "source": [
        "#%%\n",
        "import re\n",
        "from langchain.text_splitter import RecursiveCharacterTextSplitter, SentenceTransformersTokenTextSplitter\n",
        "import chromadb\n",
        "from chromadb.utils.embedding_functions import SentenceTransformerEmbeddingFunction\n",
        "from uuid import uuid4\n",
        "import requests\n",
        "import asyncio\n",
        "import chromadb\n",
        "from transformers import AutoModelForCausalLM, AutoTokenizer, AutoConfig\n",
        "import torch"
      ]
    },
    {
      "cell_type": "code",
      "execution_count": 2,
      "metadata": {
        "id": "TSUahu2ZVGbW"
      },
      "outputs": [],
      "source": [
        "def max_token_length(txt_list:list):\n",
        "    max_length = 0\n",
        "    for txt in txt_list:\n",
        "        token_count = len(re.findall(r'\\w+', txt))\n",
        "        if token_count > max_length:\n",
        "            max_length = token_count\n",
        "    return f\"Max Token Length: {max_length} tokens\""
      ]
    },
    {
      "cell_type": "code",
      "execution_count": 3,
      "metadata": {
        "colab": {
          "base_uri": "https://localhost:8080/"
        },
        "id": "-kaXjOBAVQj8",
        "outputId": "17646cc2-7499-4803-fe1b-52cb5a224c35"
      },
      "outputs": [],
      "source": [
        "model_max_chunk_length = 256\n",
        "token_splitter = SentenceTransformersTokenTextSplitter(\n",
        "    tokens_per_chunk=model_max_chunk_length,\n",
        "    model_name=\"all-MiniLM-L6-v2\",\n",
        "    chunk_overlap=0\n",
        ")"
      ]
    },
    {
      "cell_type": "code",
      "execution_count": 4,
      "metadata": {
        "id": "qbkqaJEFVVZK"
      },
      "outputs": [],
      "source": [
        "text_path = \"paulgraham.txt\"\n",
        "with open(text_path, \"r\", encoding=\"utf-8\") as f:\n",
        "    text_raw=f.read()"
      ]
    },
    {
      "cell_type": "code",
      "execution_count": 6,
      "metadata": {
        "id": "MrBG97H8VmsE"
      },
      "outputs": [],
      "source": [
        "character_splitter = RecursiveCharacterTextSplitter(\n",
        "    separators=['\\n  \\n', '\\n\\n', '\\n', '. '],\n",
        "    chunk_size=1000,\n",
        "    chunk_overlap=0\n",
        ")\n",
        "text_splitted = character_splitter.split_text(text_raw)"
      ]
    },
    {
      "cell_type": "code",
      "execution_count": 7,
      "metadata": {
        "colab": {
          "base_uri": "https://localhost:8080/",
          "height": 35
        },
        "id": "8ZVyNieWVnFw",
        "outputId": "b1acd893-5a97-4923-fc28-ccd53fbb7bed"
      },
      "outputs": [
        {
          "data": {
            "text/plain": [
              "'Max Token Length: 205 tokens'"
            ]
          },
          "execution_count": 7,
          "metadata": {},
          "output_type": "execute_result"
        }
      ],
      "source": [
        "max_token_length(text_splitted)"
      ]
    },
    {
      "cell_type": "code",
      "execution_count": 8,
      "metadata": {
        "colab": {
          "base_uri": "https://localhost:8080/"
        },
        "id": "7uwrrvXYVo3A",
        "outputId": "6594f68f-ac72-4525-a0a1-67d19225a99c"
      },
      "outputs": [
        {
          "name": "stdout",
          "output_type": "stream",
          "text": [
            "Total number of splitted chunks: 103\n"
          ]
        }
      ],
      "source": [
        "print(f\"Total number of splitted chunks: {len(text_splitted)}\")"
      ]
    },
    {
      "cell_type": "code",
      "execution_count": 9,
      "metadata": {
        "colab": {
          "base_uri": "https://localhost:8080/"
        },
        "id": "WgotY0xqVrDQ",
        "outputId": "6506d1b8-b9c0-4c90-fffc-438972baa1a4"
      },
      "outputs": [
        {
          "name": "stdout",
          "output_type": "stream",
          "text": [
            "Total number of tokens: 103\n"
          ]
        }
      ],
      "source": [
        "text_tokens = []\n",
        "for text in text_splitted:\n",
        "    text_tokens.extend(token_splitter.split_text(text))\n",
        "print(f\"Total number of tokens: {len(text_tokens)}\")"
      ]
    },
    {
      "cell_type": "code",
      "execution_count": 10,
      "metadata": {
        "colab": {
          "base_uri": "https://localhost:8080/",
          "height": 35
        },
        "id": "eKtKxJFZVtQN",
        "outputId": "24eb2f1f-886d-42c4-eacf-e923af5f761c"
      },
      "outputs": [
        {
          "data": {
            "text/plain": [
              "'Max Token Length: 205 tokens'"
            ]
          },
          "execution_count": 10,
          "metadata": {},
          "output_type": "execute_result"
        }
      ],
      "source": [
        "max_token_length(text_tokens)"
      ]
    },
    {
      "cell_type": "code",
      "execution_count": 11,
      "metadata": {
        "id": "S1sMar2NVwtm"
      },
      "outputs": [],
      "source": [
        "embedding_fn = SentenceTransformerEmbeddingFunction(\n",
        "    model_name=\"all-MiniLM-L6-v2\",\n",
        "    device=\"cpu\"\n",
        ")"
      ]
    },
    {
      "cell_type": "code",
      "execution_count": 12,
      "metadata": {
        "colab": {
          "base_uri": "https://localhost:8080/"
        },
        "id": "nQSPzJgzVyHT",
        "outputId": "951eabfb-eb3c-4232-ab02-316b9e969a9d"
      },
      "outputs": [
        {
          "data": {
            "text/plain": [
              "384"
            ]
          },
          "execution_count": 12,
          "metadata": {},
          "output_type": "execute_result"
        }
      ],
      "source": [
        "len(embedding_fn(text_tokens[0])[0])"
      ]
    },
    {
      "cell_type": "code",
      "execution_count": 13,
      "metadata": {
        "id": "F9jNV60pV0yr"
      },
      "outputs": [],
      "source": [
        "chroma_db = chromadb.Client()\n",
        "chroma_collection = chroma_db.get_or_create_collection(\"paul_graham\", embedding_function=embedding_fn)"
      ]
    },
    {
      "cell_type": "code",
      "execution_count": 14,
      "metadata": {
        "colab": {
          "base_uri": "https://localhost:8080/"
        },
        "id": "ukNmrsxQV4fn",
        "outputId": "9d7872b8-f629-4246-8e1c-182ebcf5a5f9"
      },
      "outputs": [
        {
          "data": {
            "text/plain": [
              "['e83b6a83-2a87-42d1-8a05-6dd4498f326c',\n",
              " '130a58b4-2bfe-4cd5-9bd0-9a4e36f30007',\n",
              " '5459f3a3-c32e-4f4b-ab94-bf41a17de90e',\n",
              " '0b4009f2-9c0b-4788-aff8-691ac52349b8',\n",
              " 'a17adcb2-3ade-41b6-8988-cd90cafa9c35']"
            ]
          },
          "execution_count": 14,
          "metadata": {},
          "output_type": "execute_result"
        }
      ],
      "source": [
        "ids = [str(uuid4()) for _ in range(len(text_tokens))]\n",
        "ids[:5]"
      ]
    },
    {
      "cell_type": "code",
      "execution_count": 15,
      "metadata": {
        "id": "OzFCgeX_V6wd"
      },
      "outputs": [],
      "source": [
        "chroma_collection.add(documents=text_tokens, ids=ids)"
      ]
    },
    {
      "cell_type": "code",
      "execution_count": 16,
      "metadata": {
        "colab": {
          "base_uri": "https://localhost:8080/"
        },
        "id": "QCGKo0CZV8ah",
        "outputId": "c23d63cc-7e2c-484a-e444-bee6f180323f"
      },
      "outputs": [
        {
          "data": {
            "text/plain": [
              "[['in september, robert rebelled. \" we \\' ve been working on this for a month, \" he said, \" and it \\' s still not done. \" this is funny in retrospect, because he would still be working on it almost 3 years later. but i decided it might be prudent to recruit more programmers, and i asked robert who else in grad school with him was really good. he recommended trevor blackwell, which surprised me at first, because at that point i knew trevor mainly for his plan to reduce everything in his life to a stack of notecards, which he carried around with him. but rtm was right, as usual. trevor turned out to be a frighteningly effective hacker. it was a lot of fun working with robert and trevor. they \\' re the two most independent - minded people i know, and in completely different ways. if you could see inside rtm \\' s brain it would look like a colonial new england church, and if you could see inside trevor \\' s it would look like the worst excesses of austrian rococo.',\n",
              "  \"as jessica and i were walking home from dinner on march 11, at the corner of garden and walker streets, these three threads converged. screw the vcs who were taking so long to make up their minds. we ' d start our own investment firm and actually implement the ideas we ' d been talking about. i ' d fund it, and jessica could quit her job and work for it, and we ' d get robert and trevor as partners too. [ 13 ] once again, ignorance worked in our favor. we had no idea how to be angel investors, and in boston in 2005 there were no ron conways to learn from. so we just made what seemed like the obvious choices, and some of the things we did turned out to be novel.\",\n",
              "  \"i got so excited about this idea that i couldn ' t think about anything else. it seemed obvious that this was the future. i didn ' t particularly want to start another company, but it was clear that this idea would have to be embodied as one, so i decided to move to cambridge and start it. i hoped to lure robert into working on it with me, but there i ran into a hitch. robert was now a postdoc at mit, and though he ' d made a lot of money the last time i ' d lured him into working on one of my schemes, it had also been a huge time sink. so while he agreed that it sounded like a plausible idea, he firmly refused to work on it.\",\n",
              "  'one day in 2010, when he was visiting california for interviews, robert morris did something astonishing : he offered me unsolicited advice. i can only remember him doing that once before. one day at viaweb, when i was bent over double from a kidney stone, he suggested that it would be a good idea for him to take me to the hospital. that was what it took for rtm to offer unsolicited advice. so i remember his exact words very clearly. \" you know, \" he said, \" you should make sure y combinator isn \\' t the last cool thing you do. \"',\n",
              "  'thanks to trevor blackwell, john collison, patrick collison, daniel gackle, ralph hazell, jessica livingston, robert morris, and harj taggar for reading drafts of this.',\n",
              "  \"there are multiple components to y combinator, and we didn ' t figure them all out at once. the part we got first was to be an angel firm. in those days, those two words didn ' t go together. there were vc firms, which were organized companies with people whose job it was to make investments, but they only did big, million dollar investments. and there were angels, who did smaller investments, but these were individuals who were usually focused on other things and made investments on the side. and neither of them helped founders enough in the beginning. we knew how helpless founders were in some respects, because we remembered how helpless we ' d been. for example, one thing julian had done for us that seemed to us like magic was to get us set up as a company\",\n",
              "  \"i learned some useful things at interleaf, though they were mostly about what not to do. i learned that it ' s better for technology companies to be run by product people than sales people ( though sales is a real skill and people who are good at it are really good at it ), that it leads to bugs when code is edited by too many people, that cheap office space is no bargain if it ' s depressing, that planned meetings are inferior to corridor conversations, that big, bureaucratic customers are a dangerous source of money, and that there ' s not much overlap between conventional office hours and the optimal time for hacking, or conventional offices and the optimal place for it.\",\n",
              "  \"we invited about 20 of the 225 groups to interview in person, and from those we picked 8 to fund. they were an impressive group. that first batch included reddit, justin kan and emmett shear, who went on to found twitch, aaron swartz, who had already helped write the rss spec and would a few years later become a martyr for open access, and sam altman, who would later become the second president of yc. i don ' t think it was entirely luck that the first batch was so good. you had to be pretty bold to sign up for a weird thing like the summer founders program instead of a summer job at a legit place like microsoft or goldman sachs.\",\n",
              "  \"so i looked around to see what i could salvage from the wreckage of my plans, and there was lisp. i knew from experience that lisp was interesting for its own sake and not just for its association with ai, even though that was the main reason people cared about it at the time. so i decided to focus on lisp. in fact, i decided to write a book about lisp hacking. it ' s scary to think how little i knew about lisp hacking when i started writing that book. but there ' s nothing like writing a book about something to help you learn it. the book, on lisp, wasn ' t published till 1993, but i wrote much of it in grad school. computer science is an uneasy alliance between two halves, theory and systems. the theory people prove things, and the systems people build things. i wanted to build things. i had plenty of respect for theory — indeed, a sneaking suspicion that it was the more admirable of the two halves — but building things seemed so much more exciting.\",\n",
              "  'so i gave this talk, in the course of which i told them that the best sources of seed funding were successful startup founders, because then they \\' d be sources of advice too. whereupon it seemed they were all looking expectantly at me. horrified at the prospect of having my inbox flooded by business plans ( if i \\' d only known ), i blurted out \" but not me! \" and went on with the talk. but afterward it occurred to me that i should really stop procrastinating about angel investing. i \\' d been meaning to since yahoo bought us, and now it was 7 years later and i still hadn \\' t done one angel investment. meanwhile i had been scheming with robert and trevor about projects we could work on together. i missed working with them, and it seemed like there had to be something we could collaborate on.']]"
            ]
          },
          "execution_count": 16,
          "metadata": {},
          "output_type": "execute_result"
        }
      ],
      "source": [
        "res = chroma_collection.query(query_texts=[\"What did paul graham work on\"], n_results = 10)\n",
        "res['documents']"
      ]
    },
    {
      "cell_type": "code",
      "execution_count": 17,
      "metadata": {
        "id": "SFIhKos7WBwB"
      },
      "outputs": [],
      "source": [
        "chroma_collection = chroma_db.get_or_create_collection(\"paul_graham\", embedding_function=embedding_fn)"
      ]
    },
    {
      "cell_type": "code",
      "execution_count": 18,
      "metadata": {
        "id": "7I9K85KIWOxW"
      },
      "outputs": [],
      "source": [
        "def get_query_results(query_text: str, n_results: int = 5) -> str:\n",
        "    \"\"\"Retrieve relevant information from ChromaDB.\"\"\"\n",
        "    res = chroma_collection.query(query_texts=[query_text], n_results=n_results)\n",
        "    docs = res[\"documents\"][0]\n",
        "\n",
        "    # Check if 'metadatas' exists, is a list, and contains valid metadata dictionaries\n",
        "    if res.get('metadatas') and isinstance(res['metadatas'], list) and len(res['metadatas']) > 0:\n",
        "        keywords = [item.get('keyword', '') if isinstance(item, dict) else '' for item in res['metadatas'][0]]\n",
        "    else:\n",
        "        keywords = [''] * len(docs)  # Assign empty keywords if metadata is missing\n",
        "\n",
        "    return '; '.join([f'{keyword}: {information}' for keyword, information in zip(keywords, docs)])\n"
      ]
    },
    {
      "cell_type": "code",
      "execution_count": 37,
      "metadata": {
        "id": "jupeUhMkWrhG"
      },
      "outputs": [],
      "source": [
        "import google.generativeai as genai\n",
        "import os\n",
        "from dotenv import load_dotenv\n",
        "load_dotenv()\n",
        "\n",
        "# Set up Google API key\n",
        "google_api_key = os.getenv(\"GOOGLE_API_KEY\")\n",
        "genai.configure(api_key=google_api_key)\n",
        "\n",
        "def rag_tool(user_query: str) -> str:\n",
        "    \"\"\"Retrieves relevant data from the database and generates a response using Gemini-2.0-Flash.\"\"\"\n",
        "    retrieved_results = get_query_results(user_query)\n",
        "    \n",
        "    system_prompt = (\n",
        "        \"You are an AI assistant with RAG capabilities. You will be given a user query and relevant retrieved documents. \"\n",
        "        \"Please generate a response based only on the provided information.\"\n",
        "    )\n",
        "\n",
        "    full_query = f\"User Query: {user_query}\\n\\nRetrieved Documents:\\n{retrieved_results}\\n\\nInstruction: {system_prompt}\"\n",
        "\n",
        "    # Initialize the Gemini model\n",
        "    model = genai.GenerativeModel(\"gemini-2.0-flash\")\n",
        "\n",
        "    # Generate response\n",
        "    response = model.generate_content(full_query)\n",
        "\n",
        "    return response.text\n"
      ]
    },
    {
      "cell_type": "code",
      "execution_count": 40,
      "metadata": {
        "colab": {
          "base_uri": "https://localhost:8080/",
          "height": 243,
          "referenced_widgets": [
            "c69feff9fdc448f9a5714770f8a6fab6",
            "89192cd4ff3241acaef7ad5cb87527b4",
            "e7c96fd354124021b96a0c5e9c1d7938",
            "099c9d0b8d5841f9a7749b68c06085d7",
            "1973cc2ac1f44e2aa082a26025c669cf",
            "8fa28efed06540988a243dafc0560e0a",
            "0ed61731b4e74816ade18d84f8eda63d",
            "995c95cfad0645cf857254b4c1804ff6",
            "69cfe7c3c2d8485399af826020e8ecb3",
            "f3a1a897e580430e9c77b3f04789ba2d",
            "c5238f59c936435fa7e545478e4a3a7e"
          ]
        },
        "id": "L4jxIZJxW6nu",
        "outputId": "a9956947-1f05-421b-a42d-a8304d33822f"
      },
      "outputs": [
        {
          "name": "stdout",
          "output_type": "stream",
          "text": [
            "Response from RAG:\n",
            "----------------------------\n",
            "After college, the author:\n",
            "\n",
            "*   Visited Rich Draves at CMU and realized the potential of making art that lasts, like paintings.\n",
            "*   Applied to art schools, including RISD and the Accademia di Belli Arti in Florence, and attended RISD as a transfer sophomore, requiring them to do the foundation program.\n",
            "*   Started taking art classes at Harvard while in a PhD program in computer science.\n",
            "*   Resumed their old life in New York but with the added benefit of being rich, which allowed them to take taxis and eat at restaurants.\n",
            "\n"
          ]
        }
      ],
      "source": [
        "async def main():\n",
        "    query = \"after college.??\"\n",
        "    response = rag_tool(query)  # Directly call the RAG tool\n",
        "    print(\"Response from RAG:\")\n",
        "    print(\"----------------------------\")\n",
        "    print(response)\n",
        "\n",
        "if __name__ == \"__main__\":\n",
        "    # Remove asyncio.run() and directly await the main function\n",
        "    await main()"
      ]
    },
    {
      "cell_type": "code",
      "execution_count": null,
      "metadata": {
        "id": "Tm9qxLTUW9uN"
      },
      "outputs": [],
      "source": []
    }
  ],
  "metadata": {
    "accelerator": "GPU",
    "colab": {
      "authorship_tag": "ABX9TyNkxTTneCjKbEEWBPL6TNWx",
      "gpuType": "T4",
      "include_colab_link": true,
      "provenance": []
    },
    "kernelspec": {
      "display_name": "venv",
      "language": "python",
      "name": "python3"
    },
    "language_info": {
      "codemirror_mode": {
        "name": "ipython",
        "version": 3
      },
      "file_extension": ".py",
      "mimetype": "text/x-python",
      "name": "python",
      "nbconvert_exporter": "python",
      "pygments_lexer": "ipython3",
      "version": "3.12.7"
    },
    "widgets": {
      "application/vnd.jupyter.widget-state+json": {
        "099c9d0b8d5841f9a7749b68c06085d7": {
          "model_module": "@jupyter-widgets/controls",
          "model_module_version": "1.5.0",
          "model_name": "HTMLModel",
          "state": {
            "_dom_classes": [],
            "_model_module": "@jupyter-widgets/controls",
            "_model_module_version": "1.5.0",
            "_model_name": "HTMLModel",
            "_view_count": null,
            "_view_module": "@jupyter-widgets/controls",
            "_view_module_version": "1.5.0",
            "_view_name": "HTMLView",
            "description": "",
            "description_tooltip": null,
            "layout": "IPY_MODEL_f3a1a897e580430e9c77b3f04789ba2d",
            "placeholder": "​",
            "style": "IPY_MODEL_c5238f59c936435fa7e545478e4a3a7e",
            "value": " 2/2 [01:07&lt;00:00, 30.96s/it]"
          }
        },
        "0ed61731b4e74816ade18d84f8eda63d": {
          "model_module": "@jupyter-widgets/controls",
          "model_module_version": "1.5.0",
          "model_name": "DescriptionStyleModel",
          "state": {
            "_model_module": "@jupyter-widgets/controls",
            "_model_module_version": "1.5.0",
            "_model_name": "DescriptionStyleModel",
            "_view_count": null,
            "_view_module": "@jupyter-widgets/base",
            "_view_module_version": "1.2.0",
            "_view_name": "StyleView",
            "description_width": ""
          }
        },
        "1973cc2ac1f44e2aa082a26025c669cf": {
          "model_module": "@jupyter-widgets/base",
          "model_module_version": "1.2.0",
          "model_name": "LayoutModel",
          "state": {
            "_model_module": "@jupyter-widgets/base",
            "_model_module_version": "1.2.0",
            "_model_name": "LayoutModel",
            "_view_count": null,
            "_view_module": "@jupyter-widgets/base",
            "_view_module_version": "1.2.0",
            "_view_name": "LayoutView",
            "align_content": null,
            "align_items": null,
            "align_self": null,
            "border": null,
            "bottom": null,
            "display": null,
            "flex": null,
            "flex_flow": null,
            "grid_area": null,
            "grid_auto_columns": null,
            "grid_auto_flow": null,
            "grid_auto_rows": null,
            "grid_column": null,
            "grid_gap": null,
            "grid_row": null,
            "grid_template_areas": null,
            "grid_template_columns": null,
            "grid_template_rows": null,
            "height": null,
            "justify_content": null,
            "justify_items": null,
            "left": null,
            "margin": null,
            "max_height": null,
            "max_width": null,
            "min_height": null,
            "min_width": null,
            "object_fit": null,
            "object_position": null,
            "order": null,
            "overflow": null,
            "overflow_x": null,
            "overflow_y": null,
            "padding": null,
            "right": null,
            "top": null,
            "visibility": null,
            "width": null
          }
        },
        "69cfe7c3c2d8485399af826020e8ecb3": {
          "model_module": "@jupyter-widgets/controls",
          "model_module_version": "1.5.0",
          "model_name": "ProgressStyleModel",
          "state": {
            "_model_module": "@jupyter-widgets/controls",
            "_model_module_version": "1.5.0",
            "_model_name": "ProgressStyleModel",
            "_view_count": null,
            "_view_module": "@jupyter-widgets/base",
            "_view_module_version": "1.2.0",
            "_view_name": "StyleView",
            "bar_color": null,
            "description_width": ""
          }
        },
        "89192cd4ff3241acaef7ad5cb87527b4": {
          "model_module": "@jupyter-widgets/controls",
          "model_module_version": "1.5.0",
          "model_name": "HTMLModel",
          "state": {
            "_dom_classes": [],
            "_model_module": "@jupyter-widgets/controls",
            "_model_module_version": "1.5.0",
            "_model_name": "HTMLModel",
            "_view_count": null,
            "_view_module": "@jupyter-widgets/controls",
            "_view_module_version": "1.5.0",
            "_view_name": "HTMLView",
            "description": "",
            "description_tooltip": null,
            "layout": "IPY_MODEL_8fa28efed06540988a243dafc0560e0a",
            "placeholder": "​",
            "style": "IPY_MODEL_0ed61731b4e74816ade18d84f8eda63d",
            "value": "Loading checkpoint shards: 100%"
          }
        },
        "8fa28efed06540988a243dafc0560e0a": {
          "model_module": "@jupyter-widgets/base",
          "model_module_version": "1.2.0",
          "model_name": "LayoutModel",
          "state": {
            "_model_module": "@jupyter-widgets/base",
            "_model_module_version": "1.2.0",
            "_model_name": "LayoutModel",
            "_view_count": null,
            "_view_module": "@jupyter-widgets/base",
            "_view_module_version": "1.2.0",
            "_view_name": "LayoutView",
            "align_content": null,
            "align_items": null,
            "align_self": null,
            "border": null,
            "bottom": null,
            "display": null,
            "flex": null,
            "flex_flow": null,
            "grid_area": null,
            "grid_auto_columns": null,
            "grid_auto_flow": null,
            "grid_auto_rows": null,
            "grid_column": null,
            "grid_gap": null,
            "grid_row": null,
            "grid_template_areas": null,
            "grid_template_columns": null,
            "grid_template_rows": null,
            "height": null,
            "justify_content": null,
            "justify_items": null,
            "left": null,
            "margin": null,
            "max_height": null,
            "max_width": null,
            "min_height": null,
            "min_width": null,
            "object_fit": null,
            "object_position": null,
            "order": null,
            "overflow": null,
            "overflow_x": null,
            "overflow_y": null,
            "padding": null,
            "right": null,
            "top": null,
            "visibility": null,
            "width": null
          }
        },
        "995c95cfad0645cf857254b4c1804ff6": {
          "model_module": "@jupyter-widgets/base",
          "model_module_version": "1.2.0",
          "model_name": "LayoutModel",
          "state": {
            "_model_module": "@jupyter-widgets/base",
            "_model_module_version": "1.2.0",
            "_model_name": "LayoutModel",
            "_view_count": null,
            "_view_module": "@jupyter-widgets/base",
            "_view_module_version": "1.2.0",
            "_view_name": "LayoutView",
            "align_content": null,
            "align_items": null,
            "align_self": null,
            "border": null,
            "bottom": null,
            "display": null,
            "flex": null,
            "flex_flow": null,
            "grid_area": null,
            "grid_auto_columns": null,
            "grid_auto_flow": null,
            "grid_auto_rows": null,
            "grid_column": null,
            "grid_gap": null,
            "grid_row": null,
            "grid_template_areas": null,
            "grid_template_columns": null,
            "grid_template_rows": null,
            "height": null,
            "justify_content": null,
            "justify_items": null,
            "left": null,
            "margin": null,
            "max_height": null,
            "max_width": null,
            "min_height": null,
            "min_width": null,
            "object_fit": null,
            "object_position": null,
            "order": null,
            "overflow": null,
            "overflow_x": null,
            "overflow_y": null,
            "padding": null,
            "right": null,
            "top": null,
            "visibility": null,
            "width": null
          }
        },
        "c5238f59c936435fa7e545478e4a3a7e": {
          "model_module": "@jupyter-widgets/controls",
          "model_module_version": "1.5.0",
          "model_name": "DescriptionStyleModel",
          "state": {
            "_model_module": "@jupyter-widgets/controls",
            "_model_module_version": "1.5.0",
            "_model_name": "DescriptionStyleModel",
            "_view_count": null,
            "_view_module": "@jupyter-widgets/base",
            "_view_module_version": "1.2.0",
            "_view_name": "StyleView",
            "description_width": ""
          }
        },
        "c69feff9fdc448f9a5714770f8a6fab6": {
          "model_module": "@jupyter-widgets/controls",
          "model_module_version": "1.5.0",
          "model_name": "HBoxModel",
          "state": {
            "_dom_classes": [],
            "_model_module": "@jupyter-widgets/controls",
            "_model_module_version": "1.5.0",
            "_model_name": "HBoxModel",
            "_view_count": null,
            "_view_module": "@jupyter-widgets/controls",
            "_view_module_version": "1.5.0",
            "_view_name": "HBoxView",
            "box_style": "",
            "children": [
              "IPY_MODEL_89192cd4ff3241acaef7ad5cb87527b4",
              "IPY_MODEL_e7c96fd354124021b96a0c5e9c1d7938",
              "IPY_MODEL_099c9d0b8d5841f9a7749b68c06085d7"
            ],
            "layout": "IPY_MODEL_1973cc2ac1f44e2aa082a26025c669cf"
          }
        },
        "e7c96fd354124021b96a0c5e9c1d7938": {
          "model_module": "@jupyter-widgets/controls",
          "model_module_version": "1.5.0",
          "model_name": "FloatProgressModel",
          "state": {
            "_dom_classes": [],
            "_model_module": "@jupyter-widgets/controls",
            "_model_module_version": "1.5.0",
            "_model_name": "FloatProgressModel",
            "_view_count": null,
            "_view_module": "@jupyter-widgets/controls",
            "_view_module_version": "1.5.0",
            "_view_name": "ProgressView",
            "bar_style": "success",
            "description": "",
            "description_tooltip": null,
            "layout": "IPY_MODEL_995c95cfad0645cf857254b4c1804ff6",
            "max": 2,
            "min": 0,
            "orientation": "horizontal",
            "style": "IPY_MODEL_69cfe7c3c2d8485399af826020e8ecb3",
            "value": 2
          }
        },
        "f3a1a897e580430e9c77b3f04789ba2d": {
          "model_module": "@jupyter-widgets/base",
          "model_module_version": "1.2.0",
          "model_name": "LayoutModel",
          "state": {
            "_model_module": "@jupyter-widgets/base",
            "_model_module_version": "1.2.0",
            "_model_name": "LayoutModel",
            "_view_count": null,
            "_view_module": "@jupyter-widgets/base",
            "_view_module_version": "1.2.0",
            "_view_name": "LayoutView",
            "align_content": null,
            "align_items": null,
            "align_self": null,
            "border": null,
            "bottom": null,
            "display": null,
            "flex": null,
            "flex_flow": null,
            "grid_area": null,
            "grid_auto_columns": null,
            "grid_auto_flow": null,
            "grid_auto_rows": null,
            "grid_column": null,
            "grid_gap": null,
            "grid_row": null,
            "grid_template_areas": null,
            "grid_template_columns": null,
            "grid_template_rows": null,
            "height": null,
            "justify_content": null,
            "justify_items": null,
            "left": null,
            "margin": null,
            "max_height": null,
            "max_width": null,
            "min_height": null,
            "min_width": null,
            "object_fit": null,
            "object_position": null,
            "order": null,
            "overflow": null,
            "overflow_x": null,
            "overflow_y": null,
            "padding": null,
            "right": null,
            "top": null,
            "visibility": null,
            "width": null
          }
        }
      }
    }
  },
  "nbformat": 4,
  "nbformat_minor": 0
}
